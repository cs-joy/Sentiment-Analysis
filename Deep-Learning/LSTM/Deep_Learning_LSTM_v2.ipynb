{
  "nbformat": 4,
  "nbformat_minor": 0,
  "metadata": {
    "colab": {
      "provenance": [],
      "gpuType": "T4"
    },
    "kernelspec": {
      "name": "python3",
      "display_name": "Python 3"
    },
    "language_info": {
      "name": "python"
    },
    "accelerator": "GPU"
  },
  "cells": [
    {
      "cell_type": "markdown",
      "source": [
        "# Sentiment Analysis on IMDB Reviews using LSTM\n",
        "\n",
        "In this work, we implement sentiment analysis model using LSTM (Long Short-Term Memory) neural networks to classify IMDB movie reviews as positive or negative. The notebook follows a standard deep learning workflow from data loading to model evaluation.\n"
      ],
      "metadata": {
        "id": "9SOGYfFCMVsG"
      }
    },
    {
      "cell_type": "markdown",
      "source": [
        "### Import necessary libraries"
      ],
      "metadata": {
        "id": "XW7BG1XU5oTG"
      }
    },
    {
      "cell_type": "code",
      "execution_count": 1,
      "metadata": {
        "id": "VIdUiCAp8vwq"
      },
      "outputs": [],
      "source": [
        "import pandas as pd # data handling\n",
        "import re # for regular expressions\n",
        "import numpy as np\n",
        "from sklearn.model_selection import train_test_split\n",
        "from sklearn.metrics import accuracy_score, precision_score, recall_score, f1_score, confusion_matrix\n",
        "import matplotlib.pyplot as plt # for visualization\n",
        "import seaborn as sns\n",
        "import nltk # text processing\n",
        "from nltk.corpus import stopwords\n",
        "from nltk.tokenize import word_tokenize\n",
        "from tensorflow.keras.preprocessing.text import Tokenizer\n",
        "from tensorflow.keras.preprocessing.sequence import pad_sequences\n",
        "from tensorflow.keras.models import Sequential\n",
        "from tensorflow.keras.layers import Embedding, Bidirectional, LSTM, Dense, Dropout\n",
        "from tensorflow.keras.callbacks import EarlyStopping, ReduceLROnPlateau, ModelCheckpoint\n",
        "import pickle # for serialization\n",
        "import tensorflow as tf # for deep learning components"
      ]
    },
    {
      "cell_type": "markdown",
      "source": [
        "### NLTK Downloads\n",
        "Downloads NLTK resources needed for text processing"
      ],
      "metadata": {
        "id": "VhoNurHLzrY1"
      }
    },
    {
      "cell_type": "code",
      "source": [
        "nltk.download('punkt') # tokenizer\n",
        "nltk.download('stopwords') # common words to remove\n",
        "nltk.download('punkt_tab') # additional tokenizer data"
      ],
      "metadata": {
        "colab": {
          "base_uri": "https://localhost:8080/"
        },
        "id": "c68a1bJk9keW",
        "outputId": "e960a6b6-bd31-4453-b85f-23f4954bb10a"
      },
      "execution_count": 2,
      "outputs": [
        {
          "output_type": "stream",
          "name": "stderr",
          "text": [
            "[nltk_data] Downloading package punkt to /root/nltk_data...\n",
            "[nltk_data]   Unzipping tokenizers/punkt.zip.\n",
            "[nltk_data] Downloading package stopwords to /root/nltk_data...\n",
            "[nltk_data]   Unzipping corpora/stopwords.zip.\n",
            "[nltk_data] Downloading package punkt_tab to /root/nltk_data...\n",
            "[nltk_data]   Unzipping tokenizers/punkt_tab.zip.\n"
          ]
        },
        {
          "output_type": "execute_result",
          "data": {
            "text/plain": [
              "True"
            ]
          },
          "metadata": {},
          "execution_count": 2
        }
      ]
    },
    {
      "cell_type": "markdown",
      "source": [
        "### Text Cleaning Function\n",
        "Defines clean_text() function that:\n",
        "\n",
        "> Removes HTML tags\n",
        "\n",
        "> Removes non-alphabetic characters\n",
        "\n",
        "> Converts to lowercase\n",
        "\n",
        "> Tokenizes text\n",
        "\n",
        "> Removes stopwords\n",
        "\n",
        "> Joins filtered tokens back into string"
      ],
      "metadata": {
        "id": "BVITmiBN1F0U"
      }
    },
    {
      "cell_type": "code",
      "source": [
        "# Load and clean data\n",
        "def clean_text(text):\n",
        "    text = re.sub(r'<.*?>', '', text) # remove HTML tags\n",
        "    text = re.sub(r'[^a-zA-Z\\s]', '', text) # non-alphabetic characters\n",
        "    text = text.lower() # remove non-alphabetic characters\n",
        "    tokens = word_tokenize(text) # tokenizes text\n",
        "    stop_words = set(stopwords.words('english')) # remove stopwords # Stop Word is a commonly used words in a sentence, usually a search engine is programmed to ignore this words (i.e. \"the\", \"a\", \"an\", \"of\", etc.) Declaring the english stop words\n",
        "    filtered_tokens = [word for word in tokens if word not in stop_words] # joins filtered tokens back into string\n",
        "    return ' '.join(filtered_tokens)"
      ],
      "metadata": {
        "id": "ndQ3SVU69kg8"
      },
      "execution_count": 3,
      "outputs": []
    },
    {
      "cell_type": "markdown",
      "source": [
        "### Load and Clean Data\n",
        "Load and clean the data using `clean_text()` function"
      ],
      "metadata": {
        "id": "WvsiutlW0YN2"
      }
    },
    {
      "cell_type": "code",
      "source": [
        "data = pd.read_csv('dataset/merge_data.csv', header=None, names=['text', 'label'])\n",
        "data['cleaned_text'] = data['text'].apply(clean_text)"
      ],
      "metadata": {
        "id": "p89d55c99kjO"
      },
      "execution_count": 4,
      "outputs": []
    },
    {
      "cell_type": "markdown",
      "source": [
        "### Split Dataset"
      ],
      "metadata": {
        "id": "pJWggrjU06Kb"
      }
    },
    {
      "cell_type": "code",
      "source": [
        "# 80%-20% train-test split with random_state=42 for reproducibility\n",
        "X_train, X_test, y_train, y_test = train_test_split(\n",
        "    data['cleaned_text'],\n",
        "    data['label'],\n",
        "    test_size=0.2,\n",
        "    random_state=42\n",
        ")"
      ],
      "metadata": {
        "id": "CNQs6i7r9kll"
      },
      "execution_count": 5,
      "outputs": []
    },
    {
      "cell_type": "markdown",
      "source": [
        "### Tokenize Text"
      ],
      "metadata": {
        "id": "qtWIT6Oi02Zc"
      }
    },
    {
      "cell_type": "code",
      "source": [
        "# Step 2 - Prepare Text Data for LSTM\n",
        "# Tokenize text\n",
        "tokenizer = Tokenizer(num_words=5000) # initializes Keras Tokenizer with 5000 word limit\n",
        "tokenizer.fit_on_texts(X_train) # fits tokenizer on training text only"
      ],
      "metadata": {
        "id": "P6Btc0VZ9kqE"
      },
      "execution_count": 6,
      "outputs": []
    },
    {
      "cell_type": "markdown",
      "source": [
        "### Convert Text to Sequences"
      ],
      "metadata": {
        "id": "3nXJoD2c1N_i"
      }
    },
    {
      "cell_type": "code",
      "source": [
        "# transforms text to numerical sequences using the fitted tokenizer\n",
        "\n",
        "X_train_seq = tokenizer.texts_to_sequences(X_train)\n",
        "X_test_seq = tokenizer.texts_to_sequences(X_test)"
      ],
      "metadata": {
        "id": "z3bP5yRl9ks8"
      },
      "execution_count": 7,
      "outputs": []
    },
    {
      "cell_type": "markdown",
      "source": [
        "###  Pad Sequences"
      ],
      "metadata": {
        "id": "EIKEzKdZ1trJ"
      }
    },
    {
      "cell_type": "code",
      "source": [
        "# Pad sequences to same length\n",
        "max_len = 100  # Maximum length of sequences\n",
        "X_train_pad = pad_sequences(X_train_seq, maxlen=max_len, padding='post', truncating='post') # pads/truncates sequences to fixed length (max_len=100)\n",
        "X_test_pad = pad_sequences(X_test_seq, maxlen=max_len, padding='post', truncating='post') # uses 'post' padding (adds zeros at end) and truncation"
      ],
      "metadata": {
        "id": "meWeRZjM9kvg"
      },
      "execution_count": 8,
      "outputs": []
    },
    {
      "cell_type": "markdown",
      "source": [
        "### Build LSTM Model -> ARCHITECHTURE\n",
        "Creates Sequential model with:\n",
        "\n",
        "- Embedding layer (10000 word vocabulary, 300-dim vectors)\n",
        "\n",
        "- Bidirectional LSTM layer (128 units) with dropout\n",
        "\n",
        "- Second Bidirectional LSTM (64 units) with dropout\n",
        "\n",
        "- Dense layer (64 units, ReLU activation)\n",
        "\n",
        "- Dropout layer (0.5 rate)\n",
        "\n",
        "- Output layer (1 unit, sigmoid activation for binary classification)"
      ],
      "metadata": {
        "id": "hgzGpt1I15qf"
      }
    },
    {
      "cell_type": "code",
      "source": [
        "# Step 3 - Build LSTM Model\n",
        "embedding_dim = 128\n",
        "lstm_units = 64\n",
        "\n",
        "# Enhanced model architecture\n",
        "model = Sequential([\n",
        "    Embedding(input_dim=10000,  # Increased vocabulary size\n",
        "              output_dim=300,  # Increased embedding dimension\n",
        "              input_length=max_len),\n",
        "    Bidirectional(LSTM(128, return_sequences=True,  # First bidirectional layer\n",
        "                     dropout=0.2, recurrent_dropout=0.2)),\n",
        "    Bidirectional(LSTM(64,  # Second bidirectional layer\n",
        "                     dropout=0.2, recurrent_dropout=0.2)),\n",
        "    Dense(64, activation='relu'),  # Additional dense layer\n",
        "    Dropout(0.5),\n",
        "    Dense(1, activation='sigmoid')\n",
        "])"
      ],
      "metadata": {
        "colab": {
          "base_uri": "https://localhost:8080/"
        },
        "id": "p-ybuLNL9kxs",
        "outputId": "f1ecf9a5-aa41-4c66-e5a9-a502dd182718"
      },
      "execution_count": 9,
      "outputs": [
        {
          "output_type": "stream",
          "name": "stderr",
          "text": [
            "/usr/local/lib/python3.11/dist-packages/keras/src/layers/core/embedding.py:97: UserWarning: Argument `input_length` is deprecated. Just remove it.\n",
            "  warnings.warn(\n"
          ]
        }
      ]
    },
    {
      "cell_type": "markdown",
      "source": [
        "### Compile Model\n",
        "Uses Adam optimizer with learning rate 0.001 and binary crossentropy loss function also tracks accuracy metric"
      ],
      "metadata": {
        "id": "ktZXIEd32TrF"
      }
    },
    {
      "cell_type": "code",
      "source": [
        "# Use learning rate scheduling\n",
        "optimizer = tf.keras.optimizers.Adam(learning_rate=0.001)\n",
        "model.compile(optimizer=optimizer,\n",
        "              loss='binary_crossentropy',\n",
        "              metrics=['accuracy'])"
      ],
      "metadata": {
        "id": "ec1IbW959k0d"
      },
      "execution_count": 10,
      "outputs": []
    },
    {
      "cell_type": "markdown",
      "source": [
        "### Learning Rate Scheduling\n",
        "Adds `ReduceLROnPlateau`callback to reduce learning rate when validation loss plateaus also adds `ModelCheckpoint` to save best model ('LSTM.h5')"
      ],
      "metadata": {
        "id": "xLFUcSP22csW"
      }
    },
    {
      "cell_type": "code",
      "source": [
        "# Add learning rate reducer\n",
        "reduce_lr = ReduceLROnPlateau(monitor='val_loss', factor=0.2,\n",
        "                              patience=2, min_lr=0.0001)\n",
        "\n",
        "# adds ModelCheckpoint to save best model ('best_model.h5')\n",
        "checkpoint = ModelCheckpoint('best-model/LSTM.h5',\n",
        "                            monitor='val_accuracy',\n",
        "                            save_best_only=True,\n",
        "                            mode='max')"
      ],
      "metadata": {
        "id": "MUGhCIUg-dc6"
      },
      "execution_count": 11,
      "outputs": []
    },
    {
      "cell_type": "markdown",
      "source": [
        "### Train model\n",
        "- adds `EarlyStopping` callback to prevent overfitting\n",
        "\n",
        "- trains for `5` epochs with `batch_size=256`\n",
        "\n",
        "- uses `10%` of training data for validation\n",
        "\n",
        "- includes all three callbacks"
      ],
      "metadata": {
        "id": "QjFMfLeA2u5X"
      }
    },
    {
      "cell_type": "code",
      "source": [
        "# Train model\n",
        "early_stopping = EarlyStopping(monitor='val_loss', patience=3, restore_best_weights=True)\n",
        "# Train with callbacks\n",
        "history = model.fit(\n",
        "    X_train_pad,\n",
        "    y_train,\n",
        "    validation_split=0.1,\n",
        "    epochs=5,  # Increased epochs\n",
        "    batch_size=256,  # Try larger batch size\n",
        "    callbacks=[early_stopping, reduce_lr, checkpoint],\n",
        "    verbose=1\n",
        ")"
      ],
      "metadata": {
        "colab": {
          "base_uri": "https://localhost:8080/"
        },
        "id": "xXDdlC0N9k5e",
        "outputId": "f94138f4-4ce3-4d8d-b94a-2567e7e18e4e"
      },
      "execution_count": 12,
      "outputs": [
        {
          "output_type": "stream",
          "name": "stdout",
          "text": [
            "Epoch 1/5\n",
            "\u001b[1m141/141\u001b[0m \u001b[32m━━━━━━━━━━━━━━━━━━━━\u001b[0m\u001b[37m\u001b[0m \u001b[1m0s\u001b[0m 1s/step - accuracy: 0.6938 - loss: 0.5544"
          ]
        },
        {
          "output_type": "stream",
          "name": "stderr",
          "text": [
            "WARNING:absl:You are saving your model as an HDF5 file via `model.save()` or `keras.saving.save_model(model)`. This file format is considered legacy. We recommend using instead the native Keras format, e.g. `model.save('my_model.keras')` or `keras.saving.save_model(model, 'my_model.keras')`. \n"
          ]
        },
        {
          "output_type": "stream",
          "name": "stdout",
          "text": [
            "\b\b\b\b\b\b\b\b\b\b\b\b\b\b\b\b\b\b\b\b\b\b\b\b\b\b\b\b\b\b\b\b\b\b\b\b\b\b\b\b\b\b\b\b\b\b\b\b\b\b\b\b\b\b\b\b\b\b\b\b\b\b\b\b\b\b\b\b\b\b\b\b\b\r\u001b[1m141/141\u001b[0m \u001b[32m━━━━━━━━━━━━━━━━━━━━\u001b[0m\u001b[37m\u001b[0m \u001b[1m199s\u001b[0m 1s/step - accuracy: 0.6944 - loss: 0.5537 - val_accuracy: 0.8540 - val_loss: 0.3393 - learning_rate: 0.0010\n",
            "Epoch 2/5\n",
            "\u001b[1m141/141\u001b[0m \u001b[32m━━━━━━━━━━━━━━━━━━━━\u001b[0m\u001b[37m\u001b[0m \u001b[1m0s\u001b[0m 1s/step - accuracy: 0.8850 - loss: 0.2936"
          ]
        },
        {
          "output_type": "stream",
          "name": "stderr",
          "text": [
            "WARNING:absl:You are saving your model as an HDF5 file via `model.save()` or `keras.saving.save_model(model)`. This file format is considered legacy. We recommend using instead the native Keras format, e.g. `model.save('my_model.keras')` or `keras.saving.save_model(model, 'my_model.keras')`. \n"
          ]
        },
        {
          "output_type": "stream",
          "name": "stdout",
          "text": [
            "\b\b\b\b\b\b\b\b\b\b\b\b\b\b\b\b\b\b\b\b\b\b\b\b\b\b\b\b\b\b\b\b\b\b\b\b\b\b\b\b\b\b\b\b\b\b\b\b\b\b\b\b\b\b\b\b\b\b\b\b\b\b\b\b\b\b\b\b\b\b\b\b\b\r\u001b[1m141/141\u001b[0m \u001b[32m━━━━━━━━━━━━━━━━━━━━\u001b[0m\u001b[37m\u001b[0m \u001b[1m192s\u001b[0m 1s/step - accuracy: 0.8850 - loss: 0.2936 - val_accuracy: 0.8593 - val_loss: 0.3278 - learning_rate: 0.0010\n",
            "Epoch 3/5\n",
            "\u001b[1m141/141\u001b[0m \u001b[32m━━━━━━━━━━━━━━━━━━━━\u001b[0m\u001b[37m\u001b[0m \u001b[1m0s\u001b[0m 1s/step - accuracy: 0.9103 - loss: 0.2438"
          ]
        },
        {
          "output_type": "stream",
          "name": "stderr",
          "text": [
            "WARNING:absl:You are saving your model as an HDF5 file via `model.save()` or `keras.saving.save_model(model)`. This file format is considered legacy. We recommend using instead the native Keras format, e.g. `model.save('my_model.keras')` or `keras.saving.save_model(model, 'my_model.keras')`. \n"
          ]
        },
        {
          "output_type": "stream",
          "name": "stdout",
          "text": [
            "\b\b\b\b\b\b\b\b\b\b\b\b\b\b\b\b\b\b\b\b\b\b\b\b\b\b\b\b\b\b\b\b\b\b\b\b\b\b\b\b\b\b\b\b\b\b\b\b\b\b\b\b\b\b\b\b\b\b\b\b\b\b\b\b\b\b\b\b\b\b\b\b\b\r\u001b[1m141/141\u001b[0m \u001b[32m━━━━━━━━━━━━━━━━━━━━\u001b[0m\u001b[37m\u001b[0m \u001b[1m207s\u001b[0m 1s/step - accuracy: 0.9103 - loss: 0.2439 - val_accuracy: 0.8600 - val_loss: 0.3356 - learning_rate: 0.0010\n",
            "Epoch 4/5\n",
            "\u001b[1m141/141\u001b[0m \u001b[32m━━━━━━━━━━━━━━━━━━━━\u001b[0m\u001b[37m\u001b[0m \u001b[1m202s\u001b[0m 1s/step - accuracy: 0.9240 - loss: 0.2049 - val_accuracy: 0.8537 - val_loss: 0.3890 - learning_rate: 0.0010\n",
            "Epoch 5/5\n",
            "\u001b[1m141/141\u001b[0m \u001b[32m━━━━━━━━━━━━━━━━━━━━\u001b[0m\u001b[37m\u001b[0m \u001b[1m203s\u001b[0m 1s/step - accuracy: 0.9478 - loss: 0.1524 - val_accuracy: 0.8510 - val_loss: 0.4182 - learning_rate: 2.0000e-04\n"
          ]
        }
      ]
    },
    {
      "cell_type": "markdown",
      "source": [
        "### Evaluate Model\n",
        "Makes predictions on test set and converts probabilities to binary predictions (threshold=0.5) afterwards calculates evaluation metrics: `accuracy, precision, recall, F1-score`."
      ],
      "metadata": {
        "id": "YbOqLp3W3AC3"
      }
    },
    {
      "cell_type": "code",
      "source": [
        "# Step 4 - Evaluate Model\n",
        "# Predict probabilities\n",
        "y_pred_proba = model.predict(X_test_pad)\n",
        "\n",
        "# Convert to binary predictions (0 or 1)\n",
        "y_pred = (y_pred_proba > 0.5).astype(int)"
      ],
      "metadata": {
        "colab": {
          "base_uri": "https://localhost:8080/"
        },
        "id": "lhNjkfVU9k8S",
        "outputId": "08e99096-df73-4069-86b6-60792c2d58eb"
      },
      "execution_count": 13,
      "outputs": [
        {
          "output_type": "stream",
          "name": "stdout",
          "text": [
            "\u001b[1m313/313\u001b[0m \u001b[32m━━━━━━━━━━━━━━━━━━━━\u001b[0m\u001b[37m\u001b[0m \u001b[1m69s\u001b[0m 216ms/step\n"
          ]
        }
      ]
    },
    {
      "cell_type": "code",
      "source": [
        "# Calculate metrics\n",
        "accuracy = accuracy_score(y_test, y_pred)\n",
        "precision = precision_score(y_test, y_pred)\n",
        "recall = recall_score(y_test, y_pred)\n",
        "f1 = f1_score(y_test, y_pred)\n",
        "\n",
        "print(f\"LSTM Model Evaluation:\")\n",
        "print(f\"Accuracy: {accuracy:.4f}\")\n",
        "print(f\"Precision: {precision:.4f}\")\n",
        "print(f\"Recall: {recall:.4f}\")\n",
        "print(f\"F1-score: {f1:.4f}\")"
      ],
      "metadata": {
        "colab": {
          "base_uri": "https://localhost:8080/"
        },
        "id": "DlEist6F9k-t",
        "outputId": "08f9b7bf-aba5-4661-e65b-f8a0ce448af0"
      },
      "execution_count": 14,
      "outputs": [
        {
          "output_type": "stream",
          "name": "stdout",
          "text": [
            "LSTM Model Evaluation:\n",
            "Accuracy: 0.8651\n",
            "Precision: 0.8639\n",
            "Recall: 0.8659\n",
            "F1-score: 0.8649\n"
          ]
        }
      ]
    },
    {
      "cell_type": "markdown",
      "source": [
        "###  Confusion Matrix\n",
        "\n",
        "- Creates and displays a heatmap of the confusion matrix and shows\n",
        "   - true negatives,\n",
        "   - false positives,\n",
        "   - false negatives,\n",
        "   - true positives"
      ],
      "metadata": {
        "id": "fMCHknvN3TAn"
      }
    },
    {
      "cell_type": "code",
      "source": [
        "# Confusion matrix\n",
        "cm = confusion_matrix(y_test, y_pred)\n",
        "plt.figure(figsize=(6, 4))\n",
        "sns.heatmap(cm, annot=True, fmt='d', cmap='Blues',\n",
        "            xticklabels=['Negative', 'Positive'],\n",
        "            yticklabels=['Negative', 'Positive'])\n",
        "plt.xlabel('Predicted')\n",
        "plt.ylabel('Actual')\n",
        "plt.title('LSTM Confusion Matrix')\n",
        "plt.show()"
      ],
      "metadata": {
        "colab": {
          "base_uri": "https://localhost:8080/",
          "height": 410
        },
        "id": "7uAwYGK49lBk",
        "outputId": "56a044fe-fda6-4848-fb61-5e570320851c"
      },
      "execution_count": 15,
      "outputs": [
        {
          "output_type": "display_data",
          "data": {
            "text/plain": [
              "<Figure size 600x400 with 2 Axes>"
            ],
            "image/png": "[encoded data removed]"
          },
          "metadata": {}
        }
      ]
    },
    {
      "cell_type": "markdown",
      "source": [
        "### Plot Training History\n",
        "Creates two subplots showing, Training and validation accuracy and loss over epochs to helps to visualize model learning progress"
      ],
      "metadata": {
        "id": "JwlxQSlk3j1B"
      }
    },
    {
      "cell_type": "code",
      "source": [
        "plt.figure(figsize=(12, 4))\n",
        "plt.subplot(1, 2, 1)\n",
        "plt.plot(history.history['accuracy'], label='Train Accuracy')\n",
        "plt.plot(history.history['val_accuracy'], label='Validation Accuracy')\n",
        "plt.title('Training History - Accuracy')\n",
        "plt.ylabel('Accuracy')\n",
        "plt.xlabel('Epoch')\n",
        "plt.legend()\n",
        "\n",
        "plt.subplot(1, 2, 2)\n",
        "plt.plot(history.history['loss'], label='Train Loss')\n",
        "plt.plot(history.history['val_loss'], label='Validation Loss')\n",
        "plt.title('Training History - Loss')\n",
        "plt.ylabel('Loss')\n",
        "plt.xlabel('Epoch')\n",
        "plt.legend()\n",
        "plt.show()"
      ],
      "metadata": {
        "colab": {
          "base_uri": "https://localhost:8080/",
          "height": 388
        },
        "id": "WNl5mQhp9lD7",
        "outputId": "5ab1acd0-fb13-499b-8b83-f58a9d7ff9ea"
      },
      "execution_count": 16,
      "outputs": [
        {
          "output_type": "display_data",
          "data": {
            "text/plain": [
              "<Figure size 1200x400 with 2 Axes>"
            ],
            "image/png": "[encoded data removed]"
          },
          "metadata": {}
        }
      ]
    },
    {
      "cell_type": "markdown",
      "source": [
        "### Save the trained model and tokenizer for future use\n",
        "\n",
        "For instance, [Real-world application](https://github.com/cs-joy/sentiment-app)"
      ],
      "metadata": {
        "id": "AARiXGF635iE"
      }
    },
    {
      "cell_type": "code",
      "source": [
        "# Save model and tokenizer\n",
        "model.save('output/lstm_sentiment_model.h5')\n",
        "with open('output/lstm_tokenizer.pkl', 'wb') as f:\n",
        "    pickle.dump(tokenizer, f)"
      ],
      "metadata": {
        "colab": {
          "base_uri": "https://localhost:8080/"
        },
        "id": "nvG6Cyvj9lGH",
        "outputId": "f7ebba17-e415-4fb5-d17f-6fb6c9ff9627"
      },
      "execution_count": 17,
      "outputs": [
        {
          "output_type": "stream",
          "name": "stderr",
          "text": [
            "WARNING:absl:You are saving your model as an HDF5 file via `model.save()` or `keras.saving.save_model(model)`. This file format is considered legacy. We recommend using instead the native Keras format, e.g. `model.save('my_model.keras')` or `keras.saving.save_model(model, 'my_model.keras')`. \n"
          ]
        }
      ]
    },
    {
      "cell_type": "markdown",
      "source": [
        "### Demo script for using the trained model and tokenizer"
      ],
      "metadata": {
        "id": "_Qga0CTH3-Pw"
      }
    },
    {
      "cell_type": "code",
      "source": [
        "# Demo function for LSTM\n",
        "def predict_sentiment_lstm(text):\n",
        "    # load model and tokenizer\n",
        "    from tensorflow.keras.models import load_model\n",
        "    loaded_model = load_model('output/lstm_sentiment_model.h5')\n",
        "    with open('output/lstm_tokenizer.pkl', 'rb') as f:\n",
        "        loaded_tokenizer = pickle.load(f)\n",
        "\n",
        "    # clean and prepare text\n",
        "    cleaned_text = clean_text(text)\n",
        "    seq = loaded_tokenizer.texts_to_sequences([cleaned_text])\n",
        "    padded = pad_sequences(seq, maxlen=max_len, padding='post', truncating='post')\n",
        "\n",
        "    # predict\n",
        "    proba = loaded_model.predict(padded)[0][0]\n",
        "    sentiment = \"Positive\" if proba > 0.5 else \"Negative\"\n",
        "    confidence = proba if proba > 0.5 else 1 - proba\n",
        "\n",
        "    return f\"{sentiment} (confidence: {confidence:.2f})\""
      ],
      "metadata": {
        "id": "xBJEmhC19lIi"
      },
      "execution_count": 18,
      "outputs": []
    },
    {
      "cell_type": "code",
      "source": [
        "# Example usage of the demo script `predict_sentiment()`\n",
        "test_text = \"This movie was absolutely fantastic, I loved every minute of it!\"\n",
        "print(f\"Text: {test_text}\")\n",
        "print(f\"Predicted Sentiment: {predict_sentiment_lstm(test_text)}\")\n",
        "\n",
        "test_text = \"The film was terrible, with bad acting and a boring plot.\"\n",
        "print(f\"Text: {test_text}\")\n",
        "print(f\"Predicted Sentiment: {predict_sentiment_lstm(test_text)}\")"
      ],
      "metadata": {
        "colab": {
          "base_uri": "https://localhost:8080/"
        },
        "id": "3bljA8fm-F0f",
        "outputId": "c659258f-181c-4470-8f3f-dd322894b032"
      },
      "execution_count": 19,
      "outputs": [
        {
          "output_type": "stream",
          "name": "stdout",
          "text": [
            "Text: This movie was absolutely fantastic, I loved every minute of it!\n"
          ]
        },
        {
          "output_type": "stream",
          "name": "stderr",
          "text": [
            "WARNING:absl:Compiled the loaded model, but the compiled metrics have yet to be built. `model.compile_metrics` will be empty until you train or evaluate the model.\n"
          ]
        },
        {
          "output_type": "stream",
          "name": "stdout",
          "text": [
            "\u001b[1m1/1\u001b[0m \u001b[32m━━━━━━━━━━━━━━━━━━━━\u001b[0m\u001b[37m\u001b[0m \u001b[1m1s\u001b[0m 1s/step\n"
          ]
        },
        {
          "output_type": "stream",
          "name": "stderr",
          "text": [
            "WARNING:absl:Compiled the loaded model, but the compiled metrics have yet to be built. `model.compile_metrics` will be empty until you train or evaluate the model.\n"
          ]
        },
        {
          "output_type": "stream",
          "name": "stdout",
          "text": [
            "Predicted Sentiment: Positive (confidence: 0.88)\n",
            "Text: The film was terrible, with bad acting and a boring plot.\n",
            "\u001b[1m1/1\u001b[0m \u001b[32m━━━━━━━━━━━━━━━━━━━━\u001b[0m\u001b[37m\u001b[0m \u001b[1m1s\u001b[0m 1s/step\n",
            "Predicted Sentiment: Negative (confidence: 0.99)\n"
          ]
        }
      ]
    },
    {
      "cell_type": "markdown",
      "source": [
        "### Conclusion\n",
        "In this workflow for sentiment analysis using LSTM networks, achieving good performance (86.51% accuracy) on the IMDB review classification task. The model architecture includes modern techniques like bidirectional LSTMs, dropout for regularization, and learning rate scheduling."
      ],
      "metadata": {
        "id": "aJinVstw4wek"
      }
    },
    {
      "cell_type": "code",
      "source": [],
      "metadata": {
        "id": "oZmotP4DMNDi"
      },
      "execution_count": 19,
      "outputs": []
    }
  ]
}